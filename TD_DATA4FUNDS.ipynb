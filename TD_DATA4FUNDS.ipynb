{
  "nbformat": 4,
  "nbformat_minor": 0,
  "metadata": {
    "colab": {
      "provenance": [],
      "authorship_tag": "ABX9TyNAKegV4zYLhDNN4SE6GX2i",
      "include_colab_link": true
    },
    "kernelspec": {
      "name": "python3",
      "display_name": "Python 3"
    },
    "language_info": {
      "name": "python"
    }
  },
  "cells": [
    {
      "cell_type": "markdown",
      "metadata": {
        "id": "view-in-github",
        "colab_type": "text"
      },
      "source": [
        "<a href=\"https://colab.research.google.com/github/MalekGroune57/IAE_METZ_DATA/blob/main/TD_DATA4FUNDS.ipynb\" target=\"_parent\"><img src=\"https://colab.research.google.com/assets/colab-badge.svg\" alt=\"Open In Colab\"/></a>"
      ]
    },
    {
      "cell_type": "code",
      "execution_count": 2,
      "metadata": {
        "colab": {
          "base_uri": "https://localhost:8080/"
        },
        "id": "ngU46IH-n9EG",
        "outputId": "3008bc75-7c5d-4ccf-e8b5-77a3dff18953"
      },
      "outputs": [
        {
          "output_type": "stream",
          "name": "stdout",
          "text": [
            "Hello Wolrd!\n"
          ]
        }
      ],
      "source": [
        "# Premier code python par Malek pour le cours de l'IAE Metz\n",
        "print(\"Hello Wolrd!\")\n"
      ]
    },
    {
      "cell_type": "markdown",
      "source": [
        "# Simple Example"
      ],
      "metadata": {
        "id": "RDtP7K0aQyb7"
      }
    },
    {
      "cell_type": "code",
      "source": [
        "prenom_1 = \"Malek\" #String c est du texte\n",
        "salaire = 57000 #interger sont les entiers naturels\n",
        "height = 1.70 #floats chiffres à virgules"
      ],
      "metadata": {
        "id": "_eUP6AZCovYM"
      },
      "execution_count": 6,
      "outputs": []
    },
    {
      "cell_type": "markdown",
      "source": [
        "# Case texte est en MARKDOWN\n"
      ],
      "metadata": {
        "id": "TOEFlWbnqi2J"
      }
    },
    {
      "cell_type": "code",
      "source": [
        "print(\"prenom_1\")"
      ],
      "metadata": {
        "colab": {
          "base_uri": "https://localhost:8080/"
        },
        "id": "LCFz6pqtrBos",
        "outputId": "019652e2-8544-4dc7-ef17-03f140d77b37"
      },
      "execution_count": 4,
      "outputs": [
        {
          "output_type": "stream",
          "name": "stdout",
          "text": [
            "prenom_1\n"
          ]
        }
      ]
    },
    {
      "cell_type": "code",
      "source": [
        "print(prenom_1)"
      ],
      "metadata": {
        "colab": {
          "base_uri": "https://localhost:8080/"
        },
        "id": "qlTEmWp8rGEV",
        "outputId": "fabcc523-0b58-440b-b13f-2e83084f45ca"
      },
      "execution_count": 5,
      "outputs": [
        {
          "output_type": "stream",
          "name": "stdout",
          "text": [
            "Malek\n"
          ]
        }
      ]
    },
    {
      "cell_type": "code",
      "source": [
        "print(f\"On dirait que {prenom_1} est seul, il gagne {salaire} roubles\")"
      ],
      "metadata": {
        "colab": {
          "base_uri": "https://localhost:8080/"
        },
        "id": "0HIJ9qrsQ-z4",
        "outputId": "380ef51b-263d-4a18-a98a-af61d1c2deac"
      },
      "execution_count": 15,
      "outputs": [
        {
          "output_type": "stream",
          "name": "stdout",
          "text": [
            "On dirait que Malek est seul, il gagne 57000 roubles\n"
          ]
        }
      ]
    },
    {
      "cell_type": "code",
      "source": [
        "# Arithmetic\n",
        "valeur_1 = 10\n",
        "valeur_2 = 3\n",
        "\n",
        "a = 10\n",
        "b = 3"
      ],
      "metadata": {
        "id": "Mv7___6URlEJ"
      },
      "execution_count": 16,
      "outputs": []
    },
    {
      "cell_type": "code",
      "source": [
        "a, b = 10, 3\n",
        "print(f\"SUM:{a + b}, Differences: {a - b}, Product {a * b}, Division {a / b}\")"
      ],
      "metadata": {
        "colab": {
          "base_uri": "https://localhost:8080/"
        },
        "id": "JFxsVNfUSveC",
        "outputId": "87aec1f9-5ea9-4741-d0e5-05d6eb6af76d"
      },
      "execution_count": 18,
      "outputs": [
        {
          "output_type": "stream",
          "name": "stdout",
          "text": [
            "SUM:13, Differences: 7, Product 30, Division 3.3333333333333335\n"
          ]
        }
      ]
    },
    {
      "cell_type": "code",
      "source": [
        "print(f\"Division Integer: {a//b}, Modulos: {a % b}, exponentiel {a ** b}, \")"
      ],
      "metadata": {
        "colab": {
          "base_uri": "https://localhost:8080/"
        },
        "id": "W4yL6PxjUFTB",
        "outputId": "c7204ef7-a052-4b61-d113-65159ac83346"
      },
      "execution_count": 20,
      "outputs": [
        {
          "output_type": "stream",
          "name": "stdout",
          "text": [
            "Division Integer: 3, Modulos: 1, exponentiel 1000\n"
          ]
        }
      ]
    },
    {
      "cell_type": "code",
      "source": [
        "# LIST\n",
        "\n",
        "fruits = [\"Apple\", \"bananes\", \"fraises\"]\n",
        "fruits[0]\n"
      ],
      "metadata": {
        "colab": {
          "base_uri": "https://localhost:8080/",
          "height": 35
        },
        "id": "kqyCPbnbUrvd",
        "outputId": "a06d7819-b348-4d07-a1d1-b5c7d2226183"
      },
      "execution_count": 23,
      "outputs": [
        {
          "output_type": "execute_result",
          "data": {
            "text/plain": [
              "'Apple'"
            ],
            "application/vnd.google.colaboratory.intrinsic+json": {
              "type": "string"
            }
          },
          "metadata": {},
          "execution_count": 23
        }
      ]
    },
    {
      "cell_type": "code",
      "source": [
        "# DICTIONNAIRES\n",
        "# Non-ordonné et paires clé-valeur. Uniques et immutables.\n",
        "# Dans la vraie vie qu'utilisons nous le plus?\n",
        "eleve = {\"nom\": \"FABIAN\", \"age\": 25, \"city\": \"DUSSELDORF\" }\n",
        "print(f\"Salut je suis {eleve['nom']} et j'ai {eleve['age']} \")"
      ],
      "metadata": {
        "colab": {
          "base_uri": "https://localhost:8080/"
        },
        "id": "hILKAvp6V7Nn",
        "outputId": "3b5b1dab-c665-4476-ab21-376f9469268a"
      },
      "execution_count": 26,
      "outputs": [
        {
          "output_type": "stream",
          "name": "stdout",
          "text": [
            "Salut je suis FABIAN et j'ai 25 \n"
          ]
        }
      ]
    },
    {
      "cell_type": "code",
      "source": [
        "# La façon la plus courante de stocker des données en python est via un DATAFRAME\n",
        "# DATA + FRAME\n",
        "# PACKAGE\n",
        "import pandas as pd\n",
        "\n",
        "data= pd.DataFrame({'Data':['2020-01-01','2025-02-11'], 'FondInvestLux':[10, 100], 'Amundi': [11, 13]})"
      ],
      "metadata": {
        "id": "ivrLi0g7fIMY"
      },
      "execution_count": 28,
      "outputs": []
    },
    {
      "cell_type": "code",
      "source": [
        "data\n",
        "note = 10"
      ],
      "metadata": {
        "id": "XKntgLiQf9rn"
      },
      "execution_count": 36,
      "outputs": []
    },
    {
      "cell_type": "code",
      "source": [
        "# Fonctions et boucles basiques à connaître\n",
        "\n",
        "if note > 10:\n",
        "  print(\"J'ai plus que la moyenne\")\n",
        "elif note <10:\n",
        "  print(\"J'ai pas la moyenne\")\n",
        "else: # il faut savoir cloturer certaines boucles\n",
        "  print(\"j'ai pile la moyenne\")"
      ],
      "metadata": {
        "colab": {
          "base_uri": "https://localhost:8080/"
        },
        "id": "DIt2LPZVhENo",
        "outputId": "091af826-c577-4677-c494-ba532160fbc3"
      },
      "execution_count": 37,
      "outputs": [
        {
          "output_type": "stream",
          "name": "stdout",
          "text": [
            "j'ai pile la moyenne\n"
          ]
        }
      ]
    },
    {
      "cell_type": "code",
      "source": [
        "x = float(input(\"Entre un chiffre\"))"
      ],
      "metadata": {
        "colab": {
          "base_uri": "https://localhost:8080/"
        },
        "id": "b7MFodmAiukA",
        "outputId": "e5ab9798-8d28-48a2-e87f-0ca2080afe01"
      },
      "execution_count": 35,
      "outputs": [
        {
          "name": "stdout",
          "output_type": "stream",
          "text": [
            "Entre un chiffre 13\n"
          ]
        }
      ]
    },
    {
      "cell_type": "code",
      "source": [
        "for i in range(3):\n",
        "  print(f\"Boucle avec x iterations de {i}\")"
      ],
      "metadata": {
        "colab": {
          "base_uri": "https://localhost:8080/"
        },
        "id": "JZztMQSfjqK-",
        "outputId": "7238ee4b-b9d3-48fe-dc53-d0de2599fb11"
      },
      "execution_count": 39,
      "outputs": [
        {
          "output_type": "stream",
          "name": "stdout",
          "text": [
            "Boucle avec x iterations de 0\n",
            "Boucle avec x iterations de 1\n",
            "Boucle avec x iterations de 2\n"
          ]
        }
      ]
    },
    {
      "cell_type": "code",
      "source": [
        "# Boucle plus complexe: WHILE qui est une boucle conditionnelle\n",
        "count = 0"
      ],
      "metadata": {
        "id": "VwLa228OkHPb"
      },
      "execution_count": 40,
      "outputs": []
    },
    {
      "cell_type": "code",
      "source": [
        "while count < 3:\n",
        "  print(f\"Count: {4}\")\n",
        "  count +=1"
      ],
      "metadata": {
        "colab": {
          "base_uri": "https://localhost:8080/"
        },
        "id": "QIMdI_nxkPtK",
        "outputId": "d5dee49f-3cc5-46f6-af26-230ed264039e"
      },
      "execution_count": 41,
      "outputs": [
        {
          "output_type": "stream",
          "name": "stdout",
          "text": [
            "Count: 4\n",
            "Count: 4\n",
            "Count: 4\n"
          ]
        }
      ]
    },
    {
      "cell_type": "code",
      "source": [
        "# LES BASES DES FONCTIONS (une foction s'écrit \"def\")\n",
        "def greet(nom, greeting=\"Hello\"):\n",
        "  return f\"{greeting},{nom} !!!\"\n",
        "print(greet(\"Malek\"))\n",
        "print(greet(\"Paul\",\"BONJOUR\"))"
      ],
      "metadata": {
        "colab": {
          "base_uri": "https://localhost:8080/"
        },
        "id": "7BMCHIZSk1TJ",
        "outputId": "b87af38d-ffe1-4549-95fe-901798ef7bf6"
      },
      "execution_count": 50,
      "outputs": [
        {
          "output_type": "stream",
          "name": "stdout",
          "text": [
            "Hello,Malek !!!\n",
            "BONJOUR,Paul !!!\n"
          ]
        }
      ]
    },
    {
      "cell_type": "code",
      "source": [
        "print(greet(\"Malek\"))"
      ],
      "metadata": {
        "colab": {
          "base_uri": "https://localhost:8080/"
        },
        "id": "YxiO8u5CmMuo",
        "outputId": "71525eb2-7ae9-4a32-b20a-5d50c19d15ce"
      },
      "execution_count": 46,
      "outputs": [
        {
          "output_type": "stream",
          "name": "stdout",
          "text": [
            "Hello,Malek !!!\n"
          ]
        }
      ]
    }
  ]
}